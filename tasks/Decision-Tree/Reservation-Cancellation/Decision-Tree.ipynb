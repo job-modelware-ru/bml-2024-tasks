{
 "cells": [
  {
   "cell_type": "code",
   "execution_count": 29,
   "id": "3b0698a4-c86b-47b6-ba79-c011abebf83f",
   "metadata": {},
   "outputs": [
    {
     "name": "stdout",
     "output_type": "stream",
     "text": [
      "C:/Users/user/Downloads/decision-tree\\data.csv\n",
      "C:/Users/user/Downloads/decision-tree\\test.csv\n",
      "C:/Users/user/Downloads/decision-tree\\train.csv\n"
     ]
    }
   ],
   "source": [
    "# data loading\n",
    "import numpy as np\n",
    "import pandas as pd\n",
    "\n",
    "# Loading the Kaggle Input data files for this particular task () in the read-only \"../input/\" directory        \n",
    "train_df = pd.read_csv(\"C:/Users/user/Downloads/decision-tree/train.csv\")\n",
    "validation_df = pd.read_csv(\"C:/Users/user/Downloads/decision-tree/test.csv\")\n",
    "\n",
    "#This code snippet lists all files in your /input/ directory \n",
    "import os\n",
    "for dirname, _, filenames in os.walk('C:/Users/user/Downloads/decision-tree'):\n",
    "    for filename in filenames:\n",
    "        print(os.path.join(dirname, filename))\n",
    "# You can write up to 20GB to the current directory (/kaggle/working/) that gets preserved as output when you create a version using \"Save & Run All\" \n",
    "# You can also write temporary files to /kaggle/temp/, but they won't be saved outside of the current session"
   ]
  },
  {
   "cell_type": "code",
   "execution_count": 30,
   "id": "16ff1845-ad4f-4518-becc-7c64fd2b20fb",
   "metadata": {},
   "outputs": [],
   "source": [
    "#data preparation\n",
    "\n",
    "from sklearn.model_selection import train_test_split\n",
    "train, test = train_test_split(train_df, test_size=0.2)\n",
    "\n",
    "\n",
    "train_X = train.drop('booking_status', axis=1)\n",
    "train_y = train['booking_status']\n",
    "\n",
    "test_X = test.drop('booking_status', axis=1)\n",
    "test_y = test['booking_status']\n",
    "\n",
    "validation_X = validation_df"
   ]
  },
  {
   "cell_type": "code",
   "execution_count": 31,
   "id": "2c3227fd-a706-43d0-a6ba-78e1b117ab60",
   "metadata": {},
   "outputs": [],
   "source": [
    "#Model creation - create OneR classifier baseline\n",
    "from sklearn.tree import DecisionTreeClassifier, export_graphviz\n",
    "\n",
    "my_model = DecisionTreeClassifier(max_depth=1).fit(train_X, train_y)"
   ]
  },
  {
   "cell_type": "code",
   "execution_count": 32,
   "id": "eddc6f03-995f-44f7-b1dc-828255facb13",
   "metadata": {},
   "outputs": [],
   "source": [
    "#For illustration purposes: plot the resulting tree\n",
    "#import graphviz\n",
    "#import re\n",
    "\n",
    "#def draw_tree(t, df, size=10, ratio=0.6, precision=2, **kwargs):\n",
    "#    s=export_graphviz(t, out_file=None, feature_names=df.columns, filled=True, rounded=True,\n",
    "#                      special_characters=True, rotate=False, precision=precision, **kwargs)\n",
    "#    return graphviz.Source(re.sub('Tree {', f'Tree {{ size={size}; ratio={ratio}', s))\n",
    "\n",
    "#draw_tree(my_model, train_X, size=10)"
   ]
  },
  {
   "cell_type": "code",
   "execution_count": 33,
   "id": "0e856b42-e36c-4ebb-b6af-06f9b33b9ae3",
   "metadata": {},
   "outputs": [
    {
     "name": "stdout",
     "output_type": "stream",
     "text": [
      "Accuracy: 0.7213776722090262, MAE: 0.27862232779097384\n"
     ]
    }
   ],
   "source": [
    "#look at model performance\n",
    "from sklearn.metrics import accuracy_score, mean_absolute_error\n",
    "\n",
    "test_y_pred = my_model.predict(test_X)\n",
    "accuracy = accuracy_score(test_y, test_y_pred)\n",
    "mae = mean_absolute_error(test_y, test_y_pred)\n",
    "print(\"Accuracy: {}, MAE: {}\".format(accuracy, mae))"
   ]
  },
  {
   "cell_type": "code",
   "execution_count": 34,
   "id": "5f18dc16-fc1c-472e-9610-dcb9560341a3",
   "metadata": {},
   "outputs": [],
   "source": [
    "#load validation set from file, create predictions based on your previously trained model and prepare a submission in csv format for Kaggle upload\n",
    "validation_y = my_model.predict(validation_X)\n",
    "validation_X['booking_status'] = validation_y\n",
    "kaggle_sub = validation_X[['id', 'booking_status']]\n",
    "kaggle_sub.to_csv('C:/Users/user/Downloads/decision-tree/data.csv', index=False)\n",
    "\n",
    "# In order to submit your result, simply click on the 'Submit' button under the 'Submit to competition' rider on the right. Kaggle will upload your entire notebook \n",
    "# and rate the output of the submission.csv file, which is set up in expected format \"id\"-\"booking_status\" for all ids in the test.csv.\n",
    "# Once you have made changes and improvements to the model, you can re-submit newly computed results for the competition up to five times per day. \n",
    "# You can of course always create your own test sets using parts of the training data and/or cross-validation."
   ]
  },
  {
   "cell_type": "code",
   "execution_count": null,
   "id": "02ea4cfc-f962-44b8-bf3c-cf52417bde5d",
   "metadata": {},
   "outputs": [],
   "source": []
  },
  {
   "cell_type": "code",
   "execution_count": null,
   "id": "8cb8b4aa-775c-48e2-a749-d20c4bb6979e",
   "metadata": {},
   "outputs": [],
   "source": []
  }
 ],
 "metadata": {
  "kernelspec": {
   "display_name": "Python 3 (ipykernel)",
   "language": "python",
   "name": "python3"
  },
  "language_info": {
   "codemirror_mode": {
    "name": "ipython",
    "version": 3
   },
   "file_extension": ".py",
   "mimetype": "text/x-python",
   "name": "python",
   "nbconvert_exporter": "python",
   "pygments_lexer": "ipython3",
   "version": "3.13.1"
  }
 },
 "nbformat": 4,
 "nbformat_minor": 5
}
